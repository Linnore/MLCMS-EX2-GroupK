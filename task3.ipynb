{
 "cells": [
  {
   "cell_type": "markdown",
   "metadata": {},
   "source": [
    "# Task 3"
   ]
  },
  {
   "cell_type": "code",
   "execution_count": 1,
   "metadata": {},
   "outputs": [],
   "source": [
    "import os\n",
    "import numpy as np\n",
    "from pythonsrc.scenarioLoader import *"
   ]
  },
  {
   "cell_type": "markdown",
   "metadata": {},
   "source": [
    "## Part 1: Run the scenarios using vadere-console.jar"
   ]
  },
  {
   "cell_type": "markdown",
   "metadata": {},
   "source": [
    "The folder for scenrio files is \".\\vadere-project\\scenarios\\\".\n",
    "The output directory is \".\\vadere\\project\\output\\\"."
   ]
  },
  {
   "cell_type": "markdown",
   "metadata": {},
   "source": [
    "#### Preparation for paths"
   ]
  },
  {
   "cell_type": "code",
   "execution_count": 2,
   "metadata": {},
   "outputs": [],
   "source": [
    "root_path = os.path.abspath(os.getcwd()) # This notebook should be at the root of our repo\n",
    "output_dir = os.path.join(root_path, \"vadere-project\", \"output\")\n",
    "console_path = os.path.join(root_path, \"Vadere-master-compiled\", \"vadere-console.jar\")"
   ]
  },
  {
   "cell_type": "code",
   "execution_count": 3,
   "metadata": {},
   "outputs": [],
   "source": [
    "def set_scenario_file(file_name):\n",
    "     return os.path.join(root_path, \"vadere-project\", \"scenarios\", file_name)\n",
    "    \n",
    "scenario_file = set_scenario_file(\"RiMEA_Test6_corner.scenario\")"
   ]
  },
  {
   "cell_type": "markdown",
   "metadata": {},
   "source": [
    "#### Generate the commands to use the console"
   ]
  },
  {
   "cell_type": "code",
   "execution_count": 4,
   "metadata": {},
   "outputs": [],
   "source": [
    "def get_console_cmd(scenario_file, output_dir):\n",
    "    scmd = \" \".join([\"java\", \"-jar\",\n",
    "                   console_path,\n",
    "                   \"scenario-run\",\n",
    "                   \"--scenario-file\",\n",
    "                   scenario_file,\n",
    "                   \"--output-dir=\"+output_dir])\n",
    "    return scmd\n"
   ]
  },
  {
   "cell_type": "markdown",
   "metadata": {},
   "source": [
    "#### Use the following cell to run the corner scenario in console."
   ]
  },
  {
   "cell_type": "code",
   "execution_count": 5,
   "metadata": {},
   "outputs": [
    {
     "name": "stdout",
     "output_type": "stream",
     "text": [
      "WARNING: sun.reflect.Reflection.getCallerClass is not supported. This will impact performance.\n",
      "08:52:17,747   INFO ScenarioRunSubCommand:55 - Use output directory: D:\\GitHub\\TUM\\MLCMS-EX2-GroupK\\vadere-project\\output\n",
      "Topography Warning:\n",
      "   Target contains an obstacle. This setup works but reduces the actual size of the target. \n",
      "   Obstacle overlaps with a source. This setup will spawn pedestrians within the obstacle.  \n",
      "\n",
      "08:52:18,313   INFO VadereConfig:66 - Use config file from path C:\\Users\\pcfeo\\.config\\vadere.conf\n",
      "08:52:18,530   INFO ScenarioCache:85 - Cache search location: D:\\GitHub\\TUM\\MLCMS-EX2-GroupK\\vadere-project\\scenarios\\__cache__\n",
      "08:52:18,542   INFO ScenarioRun:145 - Initializing scenario: RiMEA_Test6_corner...\n",
      "08:52:18,551   INFO ScenarioRun:126 - scenario context initialized.\n",
      "08:52:18,556   INFO ScenarioRun:225 - no mesh RiMEA_Test6_corner.poly was found.\n",
      "08:52:18,557   INFO ScenarioRun:225 - no mesh RiMEA_Test6_corner_background.poly was found.\n",
      "08:52:18,658   INFO PotentialFieldDistancesBruteForce:49 - solve floor field (PotentialFieldDistancesBruteForce)\n",
      "08:52:18,678   INFO PotentialFieldDistancesBruteForce:106 - Progress:  0% -> 0/25921 [points]\n",
      "08:52:18,718   INFO PotentialFieldDistancesBruteForce:106 - Progress: 10% -> 2593/25921 [points]\n",
      "08:52:18,758   INFO PotentialFieldDistancesBruteForce:106 - Progress: 20% -> 5185/25921 [points]\n",
      "08:52:18,785   INFO PotentialFieldDistancesBruteForce:106 - Progress: 30% -> 7777/25921 [points]\n",
      "08:52:18,817   INFO PotentialFieldDistancesBruteForce:106 - Progress: 40% -> 10369/25921 [points]\n",
      "08:52:18,829   INFO PotentialFieldDistancesBruteForce:106 - Progress: 50% -> 12961/25921 [points]\n",
      "08:52:18,844   INFO PotentialFieldDistancesBruteForce:106 - Progress: 60% -> 15553/25921 [points]\n",
      "08:52:18,849   INFO PotentialFieldDistancesBruteForce:106 - Progress: 70% -> 18145/25921 [points]\n",
      "08:52:18,869   INFO PotentialFieldDistancesBruteForce:106 - Progress: 80% -> 20737/25921 [points]\n",
      "08:52:18,898   INFO PotentialFieldDistancesBruteForce:106 - Progress: 90% -> 23329/25921 [points]\n",
      "08:52:18,923   INFO PotentialFieldDistancesBruteForce:96 - floor field initialization time:250[ms]\n",
      "08:52:18,930   INFO Topography:414 - Set PedestrianIdCount to start value: 1\n",
      "08:52:19,100   INFO EikonalSolverDefaultProvider:23 - floor field initialization time:133[ms]\n",
      "08:52:19,102   INFO Simulation:259 - preLoop finished.\n",
      "08:52:21,618   INFO Simulation:362 - Finished writing all output files\n",
      "08:52:21,619   INFO ScenarioRun:261 - Simulation of scenario RiMEA_Test6_corner finished.\n",
      "\n"
     ]
    }
   ],
   "source": [
    "scenario_file = set_scenario_file(\"RiMEA_Test6_corner.scenario\")\n",
    "output_dir = os.path.join(root_path, \"vadere-project\", \"output\")\n",
    "\n",
    "# Output will be outside the repo, if using this line\n",
    "# output_dir = os.path.join(root_path, \"..\", \"vadere-project\", \"output\") \n",
    "\n",
    "task3cmd=get_console_cmd(scenario_file, output_dir)\n",
    "\n",
    "f = os.popen(task3cmd)\n",
    "print(f.read())"
   ]
  },
  {
   "cell_type": "markdown",
   "metadata": {},
   "source": [
    "#### Compare results with the one generated using GUI"
   ]
  },
  {
   "cell_type": "markdown",
   "metadata": {},
   "source": [
    "Exactly the same. See report."
   ]
  },
  {
   "cell_type": "markdown",
   "metadata": {},
   "source": [
    "## Part 2: Add pedestrians into Json"
   ]
  },
  {
   "cell_type": "markdown",
   "metadata": {},
   "source": [
    "We wrote a dataloader in the folder \".\\pythonsrc\", it is named scenarioLoader and has been imported. Provide the path of the scenario file to create such an object."
   ]
  },
  {
   "cell_type": "code",
   "execution_count": 6,
   "metadata": {},
   "outputs": [],
   "source": [
    "scenario_file = set_scenario_file(\"RiMEA_Test6_corner.scenario\")\n",
    "myScenario = scenarioLoader(scenario_file)"
   ]
  },
  {
   "cell_type": "markdown",
   "metadata": {},
   "source": [
    "Add a pedestrian at the right bottom corner."
   ]
  },
  {
   "cell_type": "code",
   "execution_count": 7,
   "metadata": {},
   "outputs": [],
   "source": [
    "myScenario.addPed(x=13, y=3, id=5, targetIDs=[2])"
   ]
  },
  {
   "cell_type": "markdown",
   "metadata": {},
   "source": [
    "Output the new scenario file into a given directory."
   ]
  },
  {
   "cell_type": "code",
   "execution_count": 8,
   "metadata": {},
   "outputs": [],
   "source": [
    "output_scenario_dir = os.path.join(os.path.dirname(scenario_file))\n",
    "output_scenario_name = \"RiMEA_Test6_corner_addedPedestrians\""
   ]
  },
  {
   "cell_type": "code",
   "execution_count": 9,
   "metadata": {},
   "outputs": [
    {
     "name": "stdout",
     "output_type": "stream",
     "text": [
      "The scenario is saved at D:\\GitHub\\TUM\\MLCMS-EX2-GroupK\\vadere-project\\scenarios\n"
     ]
    }
   ],
   "source": [
    "myScenario.save(output_scenario_dir, output_scenario_name)"
   ]
  },
  {
   "cell_type": "markdown",
   "metadata": {},
   "source": [
    "#### Run the new corner scenario with an extra pedestrian at the right bottom:"
   ]
  },
  {
   "cell_type": "code",
   "execution_count": 10,
   "metadata": {},
   "outputs": [],
   "source": [
    "scenario_file = set_scenario_file(\"RiMEA_Test6_corner_addedPedestrians.scenario\")\n",
    "output_dir = os.path.join(root_path, \"vadere-project\", \"output\")\n",
    "\n",
    "# Output will be outside the repo, if using this line\n",
    "output_dir = os.path.join(root_path, \"..\", \"vadere-project\", \"output\") \n",
    "\n",
    "task3cmd=get_console_cmd(scenario_file, output_dir)"
   ]
  },
  {
   "cell_type": "code",
   "execution_count": 11,
   "metadata": {},
   "outputs": [
    {
     "name": "stdout",
     "output_type": "stream",
     "text": [
      "WARNING: sun.reflect.Reflection.getCallerClass is not supported. This will impact performance.\n",
      "08:52:44,908   INFO ScenarioRunSubCommand:55 - Use output directory: D:\\GitHub\\TUM\\MLCMS-EX2-GroupK\\..\\vadere-project\\output\n",
      "Topography Warning:\n",
      "   Target contains an obstacle. This setup works but reduces the actual size of the target. \n",
      "   Obstacle overlaps with a source. This setup will spawn pedestrians within the obstacle.  \n",
      "\n",
      "08:52:45,522   INFO VadereConfig:66 - Use config file from path C:\\Users\\pcfeo\\.config\\vadere.conf\n",
      "08:52:45,691   INFO ScenarioCache:85 - Cache search location: D:\\GitHub\\TUM\\MLCMS-EX2-GroupK\\vadere-project\\scenarios\\__cache__\n",
      "08:52:45,701   INFO ScenarioRun:145 - Initializing scenario: RiMEA_Test6_corner_addedPedestrians...\n",
      "08:52:45,711   INFO ScenarioRun:126 - scenario context initialized.\n",
      "08:52:45,711   INFO ScenarioRun:225 - no mesh RiMEA_Test6_corner_addedPedestrians.poly was found.\n",
      "08:52:45,711   INFO ScenarioRun:225 - no mesh RiMEA_Test6_corner_addedPedestrians_background.poly was found.\n",
      "08:52:45,781   INFO PotentialFieldDistancesBruteForce:49 - solve floor field (PotentialFieldDistancesBruteForce)\n",
      "08:52:45,781   INFO PotentialFieldDistancesBruteForce:106 - Progress:  0% -> 0/25921 [points]\n",
      "08:52:45,836   INFO PotentialFieldDistancesBruteForce:106 - Progress: 10% -> 2593/25921 [points]\n",
      "08:52:45,868   INFO PotentialFieldDistancesBruteForce:106 - Progress: 20% -> 5185/25921 [points]\n",
      "08:52:45,888   INFO PotentialFieldDistancesBruteForce:106 - Progress: 30% -> 7777/25921 [points]\n",
      "08:52:45,908   INFO PotentialFieldDistancesBruteForce:106 - Progress: 40% -> 10369/25921 [points]\n",
      "08:52:45,938   INFO PotentialFieldDistancesBruteForce:106 - Progress: 50% -> 12961/25921 [points]\n",
      "08:52:45,958   INFO PotentialFieldDistancesBruteForce:106 - Progress: 60% -> 15553/25921 [points]\n",
      "08:52:45,958   INFO PotentialFieldDistancesBruteForce:106 - Progress: 70% -> 18145/25921 [points]\n",
      "08:52:45,988   INFO PotentialFieldDistancesBruteForce:106 - Progress: 80% -> 20737/25921 [points]\n",
      "08:52:46,008   INFO PotentialFieldDistancesBruteForce:106 - Progress: 90% -> 23329/25921 [points]\n",
      "08:52:46,038   INFO PotentialFieldDistancesBruteForce:96 - floor field initialization time:257[ms]\n",
      "08:52:46,048   INFO Topography:414 - Set PedestrianIdCount to start value: 6\n",
      "08:52:46,178   INFO EikonalSolverDefaultProvider:23 - floor field initialization time:110[ms]\n",
      "08:52:46,178   INFO Simulation:259 - preLoop finished.\n",
      "08:52:48,482   INFO Simulation:362 - Finished writing all output files\n",
      "08:52:48,492   INFO ScenarioRun:261 - Simulation of scenario RiMEA_Test6_corner_addedPedestrians finished.\n",
      "\n"
     ]
    }
   ],
   "source": [
    "f = os.popen(task3cmd)\n",
    "print(f.read())"
   ]
  }
 ],
 "metadata": {
  "kernelspec": {
   "display_name": "Python 3",
   "language": "python",
   "name": "python3"
  },
  "language_info": {
   "codemirror_mode": {
    "name": "ipython",
    "version": 3
   },
   "file_extension": ".py",
   "mimetype": "text/x-python",
   "name": "python",
   "nbconvert_exporter": "python",
   "pygments_lexer": "ipython3",
   "version": "3.8.8"
  }
 },
 "nbformat": 4,
 "nbformat_minor": 2
}
