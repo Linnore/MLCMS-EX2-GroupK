{
 "cells": [
  {
   "cell_type": "markdown",
   "metadata": {},
   "source": [
    "# Task 3"
   ]
  },
  {
   "cell_type": "code",
   "execution_count": 1,
   "metadata": {},
   "outputs": [],
   "source": [
    "import os\n",
    "\n",
    "from pythonsrc.scenarioLoader import *"
   ]
  },
  {
   "cell_type": "markdown",
   "metadata": {},
   "source": [
    "## Part 1: Run the scenarios using vadere-console.jar"
   ]
  },
  {
   "cell_type": "markdown",
   "metadata": {},
   "source": [
    "The folder for scenrio files is \".\\vadere-project\\scenarios\\\".\n",
    "The output directory is \".\\vadere\\project\\output\\\"."
   ]
  },
  {
   "cell_type": "markdown",
   "metadata": {},
   "source": [
    "#### Preparation for paths"
   ]
  },
  {
   "cell_type": "code",
   "execution_count": 2,
   "metadata": {},
   "outputs": [],
   "source": [
    "root_path = os.path.abspath(os.getcwd()) # This notebook should be at the root of our repo\n",
    "output_dir = os.path.join(root_path, \"vadere-project\", \"output\")\n",
    "console_path = os.path.join(root_path, \"Vadere-master-compiled\", \"vadere-console.jar\")"
   ]
  },
  {
   "cell_type": "code",
   "execution_count": 3,
   "metadata": {},
   "outputs": [],
   "source": [
    "def set_scenario_file(file_name):\n",
    "     return os.path.join(root_path, \"vadere-project\", \"scenarios\", file_name)\n",
    "    \n",
    "scenario_file = set_scenario_file(\"RiMEA_Test6_corner.scenario\")"
   ]
  },
  {
   "cell_type": "markdown",
   "metadata": {},
   "source": [
    "#### Generate the commands to use the console"
   ]
  },
  {
   "cell_type": "code",
   "execution_count": 4,
   "metadata": {},
   "outputs": [],
   "source": [
    "def get_console_cmd(scenario_file, output_dir):\n",
    "    scmd = \" \".join([\"java\", \"-jar\",\n",
    "                   console_path,\n",
    "                   \"scenario-run\",\n",
    "                   \"--scenario-file\",\n",
    "                   scenario_file,\n",
    "                   \"--output-dir=\"+output_dir])\n",
    "    return scmd\n",
    "\n",
    "task3cmd=get_console_cmd(scenario_file, output_dir)"
   ]
  },
  {
   "cell_type": "markdown",
   "metadata": {},
   "source": [
    "#### Use the following cell to run the corner scenario in console."
   ]
  },
  {
   "cell_type": "code",
   "execution_count": 5,
   "metadata": {},
   "outputs": [
    {
     "name": "stdout",
     "output_type": "stream",
     "text": [
      "WARNING: sun.reflect.Reflection.getCallerClass is not supported. This will impact performance.\n",
      "17:24:16,380   INFO ScenarioRunSubCommand:55 - Use output directory: D:\\GitHub\\TUM\\MLCMS-EX2-GroupK\\..\\vadere-project\\output\n",
      "Topography Warning:\n",
      "   Target contains an obstacle. This setup works but reduces the actual size of the target. \n",
      "   Obstacle overlaps with a source. This setup will spawn pedestrians within the obstacle.  \n",
      "\n",
      "17:24:17,046   INFO VadereConfig:66 - Use config file from path C:\\Users\\pcfeo\\.config\\vadere.conf\n",
      "17:24:17,409   INFO ScenarioCache:85 - Cache search location: D:\\GitHub\\TUM\\MLCMS-EX2-GroupK\\vadere-project\\scenarios\\__cache__\n",
      "17:24:17,428   INFO ScenarioRun:145 - Initializing scenario: RiMEA_Test6_corner...\n",
      "17:24:17,438   INFO ScenarioRun:126 - scenario context initialized.\n",
      "17:24:17,443   INFO ScenarioRun:225 - no mesh RiMEA_Test6_corner.poly was found.\n",
      "17:24:17,446   INFO ScenarioRun:225 - no mesh RiMEA_Test6_corner_background.poly was found.\n",
      "17:24:17,643   INFO PotentialFieldDistancesBruteForce:49 - solve floor field (PotentialFieldDistancesBruteForce)\n",
      "17:24:17,656   INFO PotentialFieldDistancesBruteForce:106 - Progress:  0% -> 0/25921 [points]\n",
      "17:24:17,707   INFO PotentialFieldDistancesBruteForce:106 - Progress: 10% -> 2593/25921 [points]\n",
      "17:24:17,752   INFO PotentialFieldDistancesBruteForce:106 - Progress: 20% -> 5185/25921 [points]\n",
      "17:24:17,779   INFO PotentialFieldDistancesBruteForce:106 - Progress: 30% -> 7777/25921 [points]\n",
      "17:24:17,815   INFO PotentialFieldDistancesBruteForce:106 - Progress: 40% -> 10369/25921 [points]\n",
      "17:24:17,833   INFO PotentialFieldDistancesBruteForce:106 - Progress: 50% -> 12961/25921 [points]\n",
      "17:24:17,844   INFO PotentialFieldDistancesBruteForce:106 - Progress: 60% -> 15553/25921 [points]\n",
      "17:24:17,859   INFO PotentialFieldDistancesBruteForce:106 - Progress: 70% -> 18145/25921 [points]\n",
      "17:24:17,880   INFO PotentialFieldDistancesBruteForce:106 - Progress: 80% -> 20737/25921 [points]\n",
      "17:24:17,911   INFO PotentialFieldDistancesBruteForce:106 - Progress: 90% -> 23329/25921 [points]\n",
      "17:24:17,936   INFO PotentialFieldDistancesBruteForce:96 - floor field initialization time:288[ms]\n",
      "17:24:17,941   INFO Topography:414 - Set PedestrianIdCount to start value: 1\n",
      "17:24:18,110   INFO EikonalSolverDefaultProvider:23 - floor field initialization time:135[ms]\n",
      "17:24:18,111   INFO Simulation:259 - preLoop finished.\n",
      "17:24:20,784   INFO Simulation:362 - Finished writing all output files\n",
      "17:24:20,785   INFO ScenarioRun:261 - Simulation of scenario RiMEA_Test6_corner finished.\n",
      "\n"
     ]
    }
   ],
   "source": [
    "scenario_file = set_scenario_file(\"RiMEA_Test6_corner.scenario\")\n",
    "\n",
    "# Output will be outside the repo, if using this line\n",
    "output_dir = os.path.join(root_path, \"..\", \"vadere-project\", \"output\") \n",
    "\n",
    "task3cmd=get_console_cmd(scenario_file, output_dir)\n",
    "\n",
    "f = os.popen(task3cmd)\n",
    "print(f.read())"
   ]
  },
  {
   "cell_type": "markdown",
   "metadata": {},
   "source": [
    "#### Compare results with the one generated using GUI"
   ]
  },
  {
   "cell_type": "markdown",
   "metadata": {},
   "source": [
    "Should be the same."
   ]
  },
  {
   "cell_type": "markdown",
   "metadata": {},
   "source": [
    "## Part 2: Add pedestrians into Json"
   ]
  },
  {
   "cell_type": "markdown",
   "metadata": {},
   "source": [
    "We wrote a dataloader in the folder \".\\pythonsrc\", it is named scenarioLoader and has been imported."
   ]
  },
  {
   "cell_type": "code",
   "execution_count": 6,
   "metadata": {},
   "outputs": [],
   "source": [
    "scenario_file = set_scenario_file(\"RiMEA_Test6_corner.scenario\")\n",
    "myScenario = scenarioLoader(scenario_file)"
   ]
  },
  {
   "cell_type": "code",
   "execution_count": 7,
   "metadata": {},
   "outputs": [],
   "source": [
    "myScenario.addPed(x=13, y=3, targetIDs=[2])"
   ]
  },
  {
   "cell_type": "code",
   "execution_count": 8,
   "metadata": {},
   "outputs": [],
   "source": [
    "output_scenario_dir = os.path.join(os.path.dirname(scenario_file))\n",
    "output_scenario_name = \"RiMEA_Test6_corner_addedPedestrians\""
   ]
  },
  {
   "cell_type": "code",
   "execution_count": 9,
   "metadata": {},
   "outputs": [
    {
     "name": "stdout",
     "output_type": "stream",
     "text": [
      "The scenario is saved at D:\\GitHub\\TUM\\MLCMS-EX2-GroupK\\vadere-project\\scenarios\n"
     ]
    }
   ],
   "source": [
    "myScenario.save(output_scenario_dir, output_scenario_name)"
   ]
  }
 ],
 "metadata": {
  "kernelspec": {
   "display_name": "Python 3",
   "language": "python",
   "name": "python3"
  },
  "language_info": {
   "codemirror_mode": {
    "name": "ipython",
    "version": 3
   },
   "file_extension": ".py",
   "mimetype": "text/x-python",
   "name": "python",
   "nbconvert_exporter": "python",
   "pygments_lexer": "ipython3",
   "version": "3.8.5"
  }
 },
 "nbformat": 4,
 "nbformat_minor": 2
}
