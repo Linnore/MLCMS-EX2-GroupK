{
 "cells": [
  {
   "cell_type": "markdown",
   "metadata": {},
   "source": [
    "# Task 3"
   ]
  },
  {
   "cell_type": "code",
   "execution_count": 1,
   "metadata": {},
   "outputs": [],
   "source": [
    "import os\n",
    "from pythonsrc.addPedtoJson import *"
   ]
  },
  {
   "cell_type": "markdown",
   "metadata": {},
   "source": [
    "## Part 1: Run the scenarios using vadere-console.jar"
   ]
  },
  {
   "cell_type": "markdown",
   "metadata": {},
   "source": [
    "#### Preparation for paths"
   ]
  },
  {
   "cell_type": "code",
   "execution_count": 2,
   "metadata": {},
   "outputs": [],
   "source": [
    "root_path = os.path.abspath(os.getcwd()) # This notebook should be at the root of our repo\n",
    "output_dir = os.path.join(root_path, \"vadere-project\", \"output\")\n",
    "console_path = os.path.join(root_path, \"Vadere-master-compiled\", \"vadere-console.jar\")"
   ]
  },
  {
   "cell_type": "code",
   "execution_count": 3,
   "metadata": {},
   "outputs": [],
   "source": [
    "def set_scenario_file(file_name):\n",
    "     return os.path.join(root_path, \"vadere-project\", \"scenarios\", file_name)\n",
    "    \n",
    "scenario_file = set_scenario_file(\"RiMEA6_OSM.scenario\")"
   ]
  },
  {
   "cell_type": "markdown",
   "metadata": {},
   "source": [
    "#### Generate the commands to use the console"
   ]
  },
  {
   "cell_type": "code",
   "execution_count": 4,
   "metadata": {},
   "outputs": [
    {
     "ename": "NameError",
     "evalue": "name 'scenario_file' is not defined",
     "output_type": "error",
     "traceback": [
      "\u001b[1;31m---------------------------------------------------------------------------\u001b[0m",
      "\u001b[1;31mNameError\u001b[0m                                 Traceback (most recent call last)",
      "\u001b[1;32m<ipython-input-4-25234d822494>\u001b[0m in \u001b[0;36m<module>\u001b[1;34m\u001b[0m\n\u001b[0;32m      8\u001b[0m     \u001b[1;32mreturn\u001b[0m \u001b[0mscmd\u001b[0m\u001b[1;33m\u001b[0m\u001b[1;33m\u001b[0m\u001b[0m\n\u001b[0;32m      9\u001b[0m \u001b[1;33m\u001b[0m\u001b[0m\n\u001b[1;32m---> 10\u001b[1;33m \u001b[0mtask3cmd\u001b[0m\u001b[1;33m=\u001b[0m\u001b[0mget_console_cmd\u001b[0m\u001b[1;33m(\u001b[0m\u001b[0mscenario_file\u001b[0m\u001b[1;33m,\u001b[0m \u001b[0moutput_dir\u001b[0m\u001b[1;33m)\u001b[0m\u001b[1;33m\u001b[0m\u001b[1;33m\u001b[0m\u001b[0m\n\u001b[0m",
      "\u001b[1;31mNameError\u001b[0m: name 'scenario_file' is not defined"
     ]
    }
   ],
   "source": [
    "def get_console_cmd(scenario_file, output_dir):\n",
    "    scmd = \" \".join([\"java\", \"-jar\",\n",
    "                   console_path,\n",
    "                   \"scenario-run\",\n",
    "                   \"--scenario-file\",\n",
    "                   scenario_file,\n",
    "                   \"--output-dir=\"+output_dir])\n",
    "    return scmd\n",
    "\n",
    "task3cmd=get_console_cmd(scenario_file, output_dir)"
   ]
  },
  {
   "cell_type": "markdown",
   "metadata": {},
   "source": [
    "#### Use the following cell to run the console"
   ]
  },
  {
   "cell_type": "code",
   "execution_count": null,
   "metadata": {},
   "outputs": [],
   "source": [
    "scenario_file = set_scenario_file(\"RiMEA6_OSM.scenario\")\n",
    "\n",
    "# Output will be outside the repo, if using this line\n",
    "output_dir = os.path.join(root_path, \"..\", \"vadere-project\", \"output\") \n",
    "\n",
    "task3cmd=get_console_cmd(scenario_file, output_dir)\n",
    "\n",
    "f = os.popen(task3cmd)\n",
    "print(f.read())"
   ]
  },
  {
   "cell_type": "markdown",
   "metadata": {},
   "source": [
    "## Part 2: Add pedestrians into Json"
   ]
  }
 ],
 "metadata": {
  "kernelspec": {
   "display_name": "Python 3",
   "language": "python",
   "name": "python3"
  },
  "language_info": {
   "codemirror_mode": {
    "name": "ipython",
    "version": 3
   },
   "file_extension": ".py",
   "mimetype": "text/x-python",
   "name": "python",
   "nbconvert_exporter": "python",
   "pygments_lexer": "ipython3",
   "version": "3.8.5"
  }
 },
 "nbformat": 4,
 "nbformat_minor": 2
}
