{
 "cells": [
  {
   "cell_type": "markdown",
   "metadata": {},
   "source": [
    "# Task 3"
   ]
  },
  {
   "cell_type": "code",
   "execution_count": 1,
   "metadata": {},
   "outputs": [],
   "source": [
    "import os\n",
    "from pythonsrc.addPedtoJson import *"
   ]
  },
  {
   "cell_type": "markdown",
   "metadata": {},
   "source": [
    "## Part 1: Run the scenarios using vadere-console.jar"
   ]
  },
  {
   "cell_type": "markdown",
   "metadata": {},
   "source": [
    "The folder for scenrio files is \".\\vadere-project\\scenarios\\\".\n",
    "The output directory is \".\\vadere\\project\\output\\\"."
   ]
  },
  {
   "cell_type": "markdown",
   "metadata": {},
   "source": [
    "#### Preparation for paths"
   ]
  },
  {
   "cell_type": "code",
   "execution_count": 2,
   "metadata": {},
   "outputs": [],
   "source": [
    "root_path = os.path.abspath(os.getcwd()) # This notebook should be at the root of our repo\n",
    "output_dir = os.path.join(root_path, \"vadere-project\", \"output\")\n",
    "console_path = os.path.join(root_path, \"Vadere-master-compiled\", \"vadere-console.jar\")"
   ]
  },
  {
   "cell_type": "code",
   "execution_count": 3,
   "metadata": {},
   "outputs": [],
   "source": [
    "def set_scenario_file(file_name):\n",
    "     return os.path.join(root_path, \"vadere-project\", \"scenarios\", file_name)\n",
    "    \n",
    "scenario_file = set_scenario_file(\"RiMEA_Test6_corner.scenario\")"
   ]
  },
  {
   "cell_type": "markdown",
   "metadata": {},
   "source": [
    "#### Generate the commands to use the console"
   ]
  },
  {
   "cell_type": "code",
   "execution_count": 4,
   "metadata": {},
   "outputs": [],
   "source": [
    "def get_console_cmd(scenario_file, output_dir):\n",
    "    scmd = \" \".join([\"java\", \"-jar\",\n",
    "                   console_path,\n",
    "                   \"scenario-run\",\n",
    "                   \"--scenario-file\",\n",
    "                   scenario_file,\n",
    "                   \"--output-dir=\"+output_dir])\n",
    "    return scmd\n",
    "\n",
    "task3cmd=get_console_cmd(scenario_file, output_dir)"
   ]
  },
  {
   "cell_type": "markdown",
   "metadata": {},
   "source": [
    "#### Use the following cell to run the corner scenario in console."
   ]
  },
  {
   "cell_type": "code",
   "execution_count": 9,
   "metadata": {},
   "outputs": [
    {
     "name": "stdout",
     "output_type": "stream",
     "text": [
      "WARNING: sun.reflect.Reflection.getCallerClass is not supported. This will impact performance.\n",
      "15:16:08,389   INFO ScenarioRunSubCommand:55 - Use output directory: D:\\GitHub\\TUM\\MLCMS-EX2-GroupK\\..\\vadere-project\\output\n",
      "Topography Warning:\n",
      "   Target contains an obstacle. This setup works but reduces the actual size of the target. \n",
      "   Obstacle overlaps with a source. This setup will spawn pedestrians within the obstacle.  \n",
      "\n",
      "15:16:09,048   INFO VadereConfig:66 - Use config file from path C:\\Users\\pcfeo\\.config\\vadere.conf\n",
      "15:16:09,260   INFO ScenarioCache:85 - Cache search location: D:\\GitHub\\TUM\\MLCMS-EX2-GroupK\\vadere-project\\scenarios\\__cache__\n",
      "15:16:09,272   INFO ScenarioRun:145 - Initializing scenario: RiMEA_Test6_corner...\n",
      "15:16:09,280   INFO ScenarioRun:126 - scenario context initialized.\n",
      "15:16:09,284   INFO ScenarioRun:225 - no mesh RiMEA_Test6_corner.poly was found.\n",
      "15:16:09,285   INFO ScenarioRun:225 - no mesh RiMEA_Test6_corner_background.poly was found.\n",
      "15:16:09,395   INFO PotentialFieldDistancesBruteForce:49 - solve floor field (PotentialFieldDistancesBruteForce)\n",
      "15:16:09,408   INFO PotentialFieldDistancesBruteForce:106 - Progress:  0% -> 0/25921 [points]\n",
      "15:16:09,463   INFO PotentialFieldDistancesBruteForce:106 - Progress: 10% -> 2593/25921 [points]\n",
      "15:16:09,503   INFO PotentialFieldDistancesBruteForce:106 - Progress: 20% -> 5185/25921 [points]\n",
      "15:16:09,537   INFO PotentialFieldDistancesBruteForce:106 - Progress: 30% -> 7777/25921 [points]\n",
      "15:16:09,570   INFO PotentialFieldDistancesBruteForce:106 - Progress: 40% -> 10369/25921 [points]\n",
      "15:16:09,583   INFO PotentialFieldDistancesBruteForce:106 - Progress: 50% -> 12961/25921 [points]\n",
      "15:16:09,593   INFO PotentialFieldDistancesBruteForce:106 - Progress: 60% -> 15553/25921 [points]\n",
      "15:16:09,603   INFO PotentialFieldDistancesBruteForce:106 - Progress: 70% -> 18145/25921 [points]\n",
      "15:16:09,619   INFO PotentialFieldDistancesBruteForce:106 - Progress: 80% -> 20737/25921 [points]\n",
      "15:16:09,650   INFO PotentialFieldDistancesBruteForce:106 - Progress: 90% -> 23329/25921 [points]\n",
      "15:16:09,674   INFO PotentialFieldDistancesBruteForce:96 - floor field initialization time:275[ms]\n",
      "15:16:09,679   INFO Topography:414 - Set PedestrianIdCount to start value: 1\n",
      "15:16:09,865   INFO EikonalSolverDefaultProvider:23 - floor field initialization time:145[ms]\n",
      "15:16:09,867   INFO Simulation:259 - preLoop finished.\n",
      "15:16:12,210   INFO Simulation:362 - Finished writing all output files\n",
      "15:16:12,211   INFO ScenarioRun:261 - Simulation of scenario RiMEA_Test6_corner finished.\n",
      "\n"
     ]
    }
   ],
   "source": [
    "scenario_file = set_scenario_file(\"RiMEA_Test6_corner.scenario\")\n",
    "\n",
    "# Output will be outside the repo, if using this line\n",
    "output_dir = os.path.join(root_path, \"..\", \"vadere-project\", \"output\") \n",
    "\n",
    "task3cmd=get_console_cmd(scenario_file, output_dir)\n",
    "\n",
    "f = os.popen(task3cmd)\n",
    "print(f.read())"
   ]
  },
  {
   "cell_type": "markdown",
   "metadata": {},
   "source": [
    "#### Compare results with the one generated using GUI"
   ]
  },
  {
   "cell_type": "markdown",
   "metadata": {},
   "source": [
    "Should be the same."
   ]
  },
  {
   "cell_type": "markdown",
   "metadata": {},
   "source": [
    "## Part 2: Add pedestrians into Json"
   ]
  }
 ],
 "metadata": {
  "kernelspec": {
   "display_name": "Python 3",
   "language": "python",
   "name": "python3"
  },
  "language_info": {
   "codemirror_mode": {
    "name": "ipython",
    "version": 3
   },
   "file_extension": ".py",
   "mimetype": "text/x-python",
   "name": "python",
   "nbconvert_exporter": "python",
   "pygments_lexer": "ipython3",
   "version": "3.8.5"
  }
 },
 "nbformat": 4,
 "nbformat_minor": 2
}
