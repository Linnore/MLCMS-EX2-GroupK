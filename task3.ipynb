{
 "cells": [
  {
   "cell_type": "markdown",
   "metadata": {},
   "source": [
    "# Task 3"
   ]
  },
  {
   "cell_type": "code",
   "execution_count": 1,
   "metadata": {},
   "outputs": [],
   "source": [
    "import os\n",
    "from pythonsrc.addPedtoJson import *"
   ]
  },
  {
   "cell_type": "markdown",
   "metadata": {},
   "source": [
    "#### Preparation for paths"
   ]
  },
  {
   "cell_type": "code",
   "execution_count": 15,
   "metadata": {},
   "outputs": [],
   "source": [
    "root_path = os.path.abspath(os.getcwd()) # This notebook should be at the root of our repo\n",
    "output_dir = os.path.join(root_path, \"vadere-project\", \"output\")\n",
    "console_path = os.path.join(root_path, \"vadere-master-compiled\", \"vadere-console.jar\")"
   ]
  },
  {
   "cell_type": "code",
   "execution_count": 6,
   "metadata": {},
   "outputs": [],
   "source": [
    "def set_scenario_file(file_name):\n",
    "     return os.path.join(root_path, \"vadere-project\", \"scenarios\", file_name)"
   ]
  },
  {
   "cell_type": "markdown",
   "metadata": {},
   "source": [
    "#### Generate the commands to use the console"
   ]
  },
  {
   "cell_type": "code",
   "execution_count": 12,
   "metadata": {},
   "outputs": [],
   "source": [
    "def get_console_cmd(scenario_file, output_dir):\n",
    "    scmd = \" \".join([\"java\", \"-jar\",\n",
    "                   console_path,\n",
    "                   \"scenario-run\",\n",
    "                   \"--scenario-file\",\n",
    "                   scenario_file,\n",
    "                   \"--output-dir=\"+output_dir])\n",
    "    return scmd\n",
    "\n",
    "task3cmd=get_console_cmd(scenario_file, output_dir)"
   ]
  },
  {
   "cell_type": "markdown",
   "metadata": {},
   "source": [
    "#### Use the following cell to run the console"
   ]
  },
  {
   "cell_type": "code",
   "execution_count": 16,
   "metadata": {},
   "outputs": [
    {
     "name": "stdout",
     "output_type": "stream",
     "text": [
      "WARNING: sun.reflect.Reflection.getCallerClass is not supported. This will impact performance.\n",
      "11:58:31,962   INFO ScenarioRunSubCommand:55 - Use output directory: D:\\GitHub\\TUM\\MLCMS-EX2-GroupK\\..\\vadere-project\\output\n",
      "11:58:32,359   INFO VadereConfig:66 - Use config file from path C:\\Users\\pcfeo\\.config\\vadere.conf\n",
      "11:58:32,543   INFO ScenarioCache:85 - Cache search location: D:\\GitHub\\TUM\\MLCMS-EX2-GroupK\\vadere-project\\scenarios\\__cache__\n",
      "11:58:32,555   INFO ScenarioRun:145 - Initializing scenario: RiMEA6_OSM...\n",
      "11:58:32,563   INFO ScenarioRun:126 - scenario context initialized.\n",
      "11:58:32,567   INFO ScenarioRun:225 - no mesh RiMEA6_OSM.poly was found.\n",
      "11:58:32,568   INFO ScenarioRun:225 - no mesh RiMEA6_OSM_background.poly was found.\n",
      "11:58:32,653   INFO PotentialFieldDistancesBruteForce:49 - solve floor field (PotentialFieldDistancesBruteForce)\n",
      "11:58:32,661   INFO PotentialFieldDistancesBruteForce:106 - Progress:  0% -> 0/22801 [points]\n",
      "11:58:32,696   INFO PotentialFieldDistancesBruteForce:106 - Progress: 10% -> 2281/22801 [points]\n",
      "11:58:32,709   INFO PotentialFieldDistancesBruteForce:106 - Progress: 20% -> 4561/22801 [points]\n",
      "11:58:32,727   INFO PotentialFieldDistancesBruteForce:106 - Progress: 30% -> 6841/22801 [points]\n",
      "11:58:32,742   INFO PotentialFieldDistancesBruteForce:106 - Progress: 40% -> 9121/22801 [points]\n",
      "11:58:32,751   INFO PotentialFieldDistancesBruteForce:106 - Progress: 50% -> 11401/22801 [points]\n",
      "11:58:32,770   INFO PotentialFieldDistancesBruteForce:106 - Progress: 60% -> 13681/22801 [points]\n",
      "11:58:32,779   INFO PotentialFieldDistancesBruteForce:106 - Progress: 70% -> 15961/22801 [points]\n",
      "11:58:32,794   INFO PotentialFieldDistancesBruteForce:106 - Progress: 80% -> 18241/22801 [points]\n",
      "11:58:32,802   INFO PotentialFieldDistancesBruteForce:106 - Progress: 90% -> 20521/22801 [points]\n",
      "11:58:32,819   INFO PotentialFieldDistancesBruteForce:96 - floor field initialization time:163[ms]\n",
      "11:58:32,821   INFO Topography:414 - Set PedestrianIdCount to start value: 1\n",
      "11:58:32,936   INFO EikonalSolverDefaultProvider:23 - floor field initialization time:92[ms]\n",
      "11:58:32,937   INFO Simulation:259 - preLoop finished.\n",
      "11:58:35,679   INFO Simulation:362 - Finished writing all output files\n",
      "11:58:35,681   INFO ScenarioRun:261 - Simulation of scenario RiMEA6_OSM finished.\n",
      "\n"
     ]
    }
   ],
   "source": [
    "scenario_file = set_scenario_file(\"RiMEA6_OSM.scenario\")\n",
    "\n",
    "# Output will be outside the repo, if using this line\n",
    "output_dir = os.path.join(root_path, \"..\", \"vadere-project\", \"output\") \n",
    "\n",
    "task3cmd=get_console_cmd(scenario_file, output_dir)\n",
    "\n",
    "f = os.popen(task3cmd)\n",
    "print(f.read())"
   ]
  }
 ],
 "metadata": {
  "kernelspec": {
   "display_name": "Python 3",
   "language": "python",
   "name": "python3"
  },
  "language_info": {
   "codemirror_mode": {
    "name": "ipython",
    "version": 3
   },
   "file_extension": ".py",
   "mimetype": "text/x-python",
   "name": "python",
   "nbconvert_exporter": "python",
   "pygments_lexer": "ipython3",
   "version": "3.8.5"
  }
 },
 "nbformat": 4,
 "nbformat_minor": 2
}
