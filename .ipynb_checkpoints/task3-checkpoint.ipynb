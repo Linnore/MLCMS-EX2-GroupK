{
 "cells": [
  {
   "cell_type": "markdown",
   "metadata": {},
   "source": [
    "# Task 3"
   ]
  },
  {
   "cell_type": "code",
   "execution_count": 1,
   "metadata": {},
   "outputs": [],
   "source": [
    "import os\n",
    "from pythonsrc.addPedtoJson import *"
   ]
  },
  {
   "cell_type": "markdown",
   "metadata": {},
   "source": [
    "Get paths"
   ]
  },
  {
   "cell_type": "code",
   "execution_count": 2,
   "metadata": {},
   "outputs": [],
   "source": [
    "crt_dir = os.getcwd() # \n",
    "\n",
    "senario_file = r\".\\vadere-preject\\scenarios\\Tasks\\RiMEA6_OSM.scenario\"\n",
    "\n",
    "output_dir = r\".\\vadere-project\\output\\task3\""
   ]
  },
  {
   "cell_type": "markdown",
   "metadata": {},
   "source": [
    "Generate the commands for task 3."
   ]
  },
  {
   "cell_type": "code",
   "execution_count": 3,
   "metadata": {},
   "outputs": [],
   "source": [
    "task3cmd = \"java -jar \\Vadere-master-compiled\\vadere-console.jar scenario-run --scenario-file \" + senario_file + \" --output-dir=\" + output_dir"
   ]
  },
  {
   "cell_type": "code",
   "execution_count": 5,
   "metadata": {},
   "outputs": [
    {
     "name": "stdout",
     "output_type": "stream",
     "text": [
      "java -jar \\Vadere-master-compiled\u000b",
      "adere-console.jar scenario-run --scenario-file .\\vadere-preject\\scenarios\\Tasks\\RiMEA6_OSM.scenario --output-dir=.\\vadere-project\\output\\task3\n"
     ]
    }
   ],
   "source": [
    "print(task3cmd)"
   ]
  },
  {
   "cell_type": "code",
   "execution_count": 4,
   "metadata": {},
   "outputs": [
    {
     "data": {
      "text/plain": [
       "''"
      ]
     },
     "execution_count": 4,
     "metadata": {},
     "output_type": "execute_result"
    }
   ],
   "source": [
    "f = os.popen(task3cmd)\n",
    "f.read()"
   ]
  }
 ],
 "metadata": {
  "kernelspec": {
   "display_name": "Python 3",
   "language": "python",
   "name": "python3"
  },
  "language_info": {
   "codemirror_mode": {
    "name": "ipython",
    "version": 3
   },
   "file_extension": ".py",
   "mimetype": "text/x-python",
   "name": "python",
   "nbconvert_exporter": "python",
   "pygments_lexer": "ipython3",
   "version": "3.8.5"
  }
 },
 "nbformat": 4,
 "nbformat_minor": 2
}
