{
 "metadata": {
  "language_info": {
   "codemirror_mode": {
    "name": "ipython",
    "version": 3
   },
   "file_extension": ".py",
   "mimetype": "text/x-python",
   "name": "python",
   "nbconvert_exporter": "python",
   "pygments_lexer": "ipython3",
   "version": "3.8.8"
  },
  "orig_nbformat": 2,
  "kernelspec": {
   "name": "python388jvsc74a57bd0c4833757cf47f575c715ac07f3096647f52934de3efbdf28680845f2937f4109",
   "display_name": "Python 3.8.8 64-bit ('newtf': conda)"
  }
 },
 "nbformat": 4,
 "nbformat_minor": 2,
 "cells": [
  {
   "source": [
    "# Task 3"
   ],
   "cell_type": "markdown",
   "metadata": {}
  },
  {
   "cell_type": "code",
   "execution_count": 1,
   "metadata": {},
   "outputs": [],
   "source": [
    "import os\n",
    "from pythonsrc.addPedtoJson import *"
   ]
  },
  {
   "source": [
    "Get paths"
   ],
   "cell_type": "markdown",
   "metadata": {}
  },
  {
   "cell_type": "code",
   "execution_count": 7,
   "metadata": {},
   "outputs": [],
   "source": [
    "crt_dir = os.getcwd() # \n",
    "\n",
    "senario_file = r\".\\vadere-preject\\scenarios\\Tasks\\RiMEA6_OSM.scenario\"\n",
    "\n",
    "output_dir = r\".\\vadere-project\\output\\task3\""
   ]
  },
  {
   "source": [
    "Generate the commands for task 3."
   ],
   "cell_type": "markdown",
   "metadata": {}
  },
  {
   "cell_type": "code",
   "execution_count": 10,
   "metadata": {},
   "outputs": [],
   "source": [
    "task3cmd = \"java -jar \\Vadere-master-compiled\\vadere-console.jar scenario-run --scenario-file \" + senario_file + \" --output-dir=\" + output_dir"
   ]
  },
  {
   "cell_type": "code",
   "execution_count": 13,
   "metadata": {},
   "outputs": [
    {
     "output_type": "execute_result",
     "data": {
      "text/plain": [
       "''"
      ]
     },
     "metadata": {},
     "execution_count": 13
    }
   ],
   "source": [
    "f = os.popen(task3cmd)\n",
    "f.read()"
   ]
  }
 ]
}